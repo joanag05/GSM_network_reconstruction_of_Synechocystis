{
 "cells": [
  {
   "cell_type": "code",
   "execution_count": 1,
   "metadata": {},
   "outputs": [],
   "source": [
    "from cobra import *\n",
    "from cobra import Model"
   ]
  },
  {
   "cell_type": "code",
   "execution_count": 2,
   "metadata": {},
   "outputs": [
    {
     "name": "stderr",
     "output_type": "stream",
     "text": [
      "3046 does not conform to 'http(s)://identifiers.org/collection/id' or'http(s)://identifiers.org/COLLECTION:id\n",
      "No objective in listOfObjectives\n",
      "No objective coefficients in model. Unclear what should be optimized\n"
     ]
    }
   ],
   "source": [
    "from cobra.io import read_sbml_model   \n",
    "model = read_sbml_model('model_lipids.xml')"
   ]
  },
  {
   "cell_type": "code",
   "execution_count": 3,
   "metadata": {},
   "outputs": [],
   "source": [
    "from cobra import Model\n",
    "model_cyano = Model()"
   ]
  },
  {
   "cell_type": "code",
   "execution_count": 5,
   "metadata": {},
   "outputs": [],
   "source": [
    "id_metabolites = [metabolite.id for metabolite in model.metabolites] \n",
    "metabolites_to_add = []\n",
    "reactions_to_add = []\n",
    "\n",
    "\n",
    "for metabolite in model.metabolites:\n",
    "    compartment = metabolite.id.split(\"__\")[-1] \n",
    "    newloc = metabolite.id.replace(compartment,\"cytop\") \n",
    "    if newloc not in id_metabolites:\n",
    "        metabolite.id = newloc\n",
    "        id_metabolites.append(newloc)\n",
    "    if metabolite.id.endswith(\"__cytop\"):\n",
    "        metabolites_to_add.append(metabolite)\n",
    "\n",
    "\n",
    "id_reactions = [reaction.id for reaction in model.reactions]\n",
    "\n",
    "for reaction in model.reactions:\n",
    "    reactions = reaction.id.split(\"__\")[-1]\n",
    "    newloc1 = reaction.id.replace(reactions, \"cytop\")\n",
    "    if newloc1 not in id_reactions:\n",
    "        reaction.id = newloc1\n",
    "        id_reactions.append(newloc1) \n",
    "    if reaction.id.endswith(\"__cytop\"):\n",
    "        reactions_to_add.append(reaction)\n",
    "\n",
    "    "
   ]
  },
  {
   "cell_type": "code",
   "execution_count": 6,
   "metadata": {},
   "outputs": [],
   "source": [
    "model_cyano.add_metabolites(metabolites_to_add)"
   ]
  },
  {
   "cell_type": "code",
   "execution_count": 7,
   "metadata": {},
   "outputs": [],
   "source": [
    "model_cyano.add_reactions(reactions_to_add)"
   ]
  },
  {
   "cell_type": "code",
   "execution_count": 13,
   "metadata": {},
   "outputs": [
    {
     "ename": "",
     "evalue": "",
     "output_type": "error",
     "traceback": [
      "\u001b[1;31mCannot execute code, session has been disposed. Please try restarting the Kernel."
     ]
    },
    {
     "ename": "",
     "evalue": "",
     "output_type": "error",
     "traceback": [
      "\u001b[1;31mThe Kernel crashed while executing code in the the current cell or a previous cell. Please review the code in the cell(s) to identify a possible cause of the failure. Click <a href='https://aka.ms/vscodeJupyterKernelCrash'>here</a> for more info. View Jupyter <a href='command:jupyter.viewOutput'>log</a> for further details."
     ]
    }
   ],
   "source": [
    "id_lipid = [\"mgdg140183\", \"mgdg160184\", \"mgdg160183\", \"mgdg160182\", \"mgdg160181\",\n",
    "\"mgdg182183\",\n",
    "\"mgdg181183\",\n",
    "\"mgdg160200\",\n",
    "\"mgdg190210\"]\n",
    "\n",
    "id_metabolites = [metabolite.id for metabolite in model_cyano.metabolites] \n",
    "for lipid in id_lipid:\n",
    "    if lipid + \"__cytop\" in id_metabolites:\n",
    "        reactions_list = get_reactions(lipid, set())\n",
    "    \n",
    "\n",
    "\n"
   ]
  },
  {
   "cell_type": "code",
   "execution_count": 12,
   "metadata": {},
   "outputs": [],
   "source": [
    "def get_reactions(id_lipid, reactions_list):\n",
    "\n",
    "    lipid = model_cyano.metabolites.get_by_id(id_lipid + \"__cytop\")\n",
    "    for reaction in lipid.reactions:\n",
    "        if lipid in reaction.products or reaction.lower_bound < 0:\n",
    "            reactions_list.add(reaction) \n",
    "            for reactant in reaction.reactants: \n",
    "                reactions_to_add = get_reactions(reactant.id.split(\"__\")[0], reactions_list)\n",
    "                reactions_list.add([e for e in reactions_to_add])\n",
    "    \n",
    "    return reactions_list\n",
    "\n",
    "        \n",
    "\n",
    "    \n",
    "        \n",
    "            \n",
    "\n",
    "\n"
   ]
  }
 ],
 "metadata": {
  "kernelspec": {
   "display_name": "base",
   "language": "python",
   "name": "python3"
  },
  "language_info": {
   "codemirror_mode": {
    "name": "ipython",
    "version": 3
   },
   "file_extension": ".py",
   "mimetype": "text/x-python",
   "name": "python",
   "nbconvert_exporter": "python",
   "pygments_lexer": "ipython3",
   "version": "3.9.13"
  },
  "orig_nbformat": 4
 },
 "nbformat": 4,
 "nbformat_minor": 2
}
