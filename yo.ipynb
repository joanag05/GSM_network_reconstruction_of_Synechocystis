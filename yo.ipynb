{
 "cells": [
  {
   "cell_type": "code",
   "execution_count": 8,
   "metadata": {
    "ExecuteTime": {
     "end_time": "2023-06-21T15:31:50.683051500Z",
     "start_time": "2023-06-21T15:31:50.668470400Z"
    }
   },
   "outputs": [],
   "source": [
    "from cobra import Model\n",
    "from cobra.io import read_sbml_model"
   ]
  },
  {
   "cell_type": "code",
   "execution_count": 10,
   "metadata": {
    "ExecuteTime": {
     "end_time": "2023-06-21T16:09:33.662010700Z",
     "start_time": "2023-06-21T16:09:00.637671500Z"
    }
   },
   "outputs": [
    {
     "name": "stderr",
     "output_type": "stream",
     "text": [
      "3046 does not conform to 'http(s)://identifiers.org/collection/id' or'http(s)://identifiers.org/COLLECTION:id\n",
      "No objective in listOfObjectives\n",
      "No objective coefficients in model. Unclear what should be optimized\n"
     ]
    }
   ],
   "source": [
    "model = read_sbml_model('model_lipids.xml')"
   ]
  },
  {
   "cell_type": "code",
   "execution_count": 11,
   "metadata": {
    "ExecuteTime": {
     "end_time": "2023-06-21T16:09:33.678146400Z",
     "start_time": "2023-06-21T16:09:33.666536Z"
    }
   },
   "outputs": [],
   "source": [
    "from cobra import Model\n",
    "model_cyano = Model()"
   ]
  },
  {
   "cell_type": "code",
   "execution_count": 13,
   "metadata": {
    "ExecuteTime": {
     "end_time": "2023-06-21T16:12:37.189507200Z",
     "start_time": "2023-06-21T16:10:31.527157900Z"
    }
   },
   "outputs": [],
   "source": [
    "id_metabolites = [metabolite.id for metabolite in model.metabolites] \n",
    "metabolites_to_add = []\n",
    "reactions_to_add = []\n",
    "\n",
    "\n",
    "for metabolite in model.metabolites:\n",
    "    compartment = metabolite.id.split(\"__\")[-1] \n",
    "    newloc = metabolite.id.replace(compartment,\"cytop\") \n",
    "    if newloc not in id_metabolites:\n",
    "        metabolite.id = newloc\n",
    "        id_metabolites.append(newloc)\n",
    "    if metabolite.id.endswith(\"__cytop\"):\n",
    "        metabolites_to_add.append(metabolite)\n",
    "\n",
    "\n",
    "id_reactions = [reaction.id for reaction in model.reactions]\n",
    "\n",
    "for reaction in model.reactions:\n",
    "    reactions = reaction.id.split(\"__\")[-1]\n",
    "    newloc1 = reaction.id.replace(reactions, \"cytop\")\n",
    "    if newloc1 not in id_reactions:\n",
    "        reaction.id = newloc1\n",
    "        id_reactions.append(newloc1) \n",
    "    if reaction.id.endswith(\"__cytop\"):\n",
    "        for metabolite in reaction.metabolites:\n",
    "            if not metabolite.id.endswith(\"__cytop\"):\n",
    "                st = reaction.metabolites[metabolite]\n",
    "                reaction.add_metabolites({metabolite: -st, model.metabolites.get_by_id(metabolite.id.split(\"__\")[0] + \"__cytop\"): st})\n",
    "        reactions_to_add.append(reaction)"
   ]
  },
  {
   "cell_type": "code",
   "execution_count": 14,
   "metadata": {
    "ExecuteTime": {
     "end_time": "2023-06-21T16:12:57.671863400Z",
     "start_time": "2023-06-21T16:12:57.586627100Z"
    }
   },
   "outputs": [],
   "source": [
    "model_cyano.add_metabolites(metabolites_to_add)"
   ]
  },
  {
   "cell_type": "code",
   "execution_count": 15,
   "metadata": {
    "ExecuteTime": {
     "end_time": "2023-06-21T16:13:09.934470Z",
     "start_time": "2023-06-21T16:12:58.498441100Z"
    }
   },
   "outputs": [],
   "source": [
    "model_cyano.add_reactions(reactions_to_add)"
   ]
  },
  {
   "cell_type": "code",
   "execution_count": 16,
   "outputs": [],
   "source": [
    "from cobra.io import write_sbml_model\n",
    "\n",
    "write_sbml_model(model_cyano, \"model_lipids_cyano.xml\")"
   ],
   "metadata": {
    "collapsed": false,
    "ExecuteTime": {
     "end_time": "2023-06-21T16:13:17.215284200Z",
     "start_time": "2023-06-21T16:13:09.948384Z"
    }
   }
  },
  {
   "cell_type": "code",
   "execution_count": 14,
   "outputs": [],
   "source": [
    "def get_reactions(id_lipid, reactions_list):\n",
    "    lipid = model_cyano.metabolites.get_by_id(id_lipid + \"__cytop\")\n",
    "    for reaction in lipid.reactions:\n",
    "        if lipid in reaction.products or reaction.lower_bound < 0:\n",
    "            reactions_list.add(reaction)\n",
    "            for reactant in reaction.reactants:\n",
    "                reactions_to_add = get_reactions(reactant.id.split(\"__\")[0], reactions_list)\n",
    "                reactions_list.add([e for e in reactions_to_add])\n",
    "    return reactions_list"
   ],
   "metadata": {
    "collapsed": false,
    "ExecuteTime": {
     "end_time": "2023-06-21T15:35:12.169345200Z",
     "start_time": "2023-06-21T15:35:12.163945100Z"
    }
   }
  },
  {
   "cell_type": "code",
   "execution_count": 1,
   "outputs": [
    {
     "name": "stderr",
     "output_type": "stream",
     "text": [
      "'' is not a valid SBML 'SId'.\n",
      "No objective coefficients in model. Unclear what should be optimized\n"
     ]
    }
   ],
   "source": [
    "from cobra.io import read_sbml_model\n",
    "model_cyano = read_sbml_model('model_lipids_cyano.xml')"
   ],
   "metadata": {
    "collapsed": false,
    "ExecuteTime": {
     "end_time": "2023-06-21T15:36:23.794476900Z",
     "start_time": "2023-06-21T15:35:58.541617800Z"
    }
   }
  },
  {
   "cell_type": "code",
   "execution_count": 2,
   "outputs": [],
   "source": [
    "id_lipid = [\"mgdg140183\", \"mgdg160184\", \"mgdg160183\", \"mgdg160182\", \"mgdg160181\",\n",
    "\"mgdg182183\",\n",
    "\"mgdg181183\",\n",
    "\"mgdg160200\",\n",
    "\"mgdg190210\"]\n",
    "\n",
    "id_metabolites = [metabolite.id for metabolite in model_cyano.metabolites]"
   ],
   "metadata": {
    "collapsed": false,
    "ExecuteTime": {
     "end_time": "2023-06-21T15:36:25.184434300Z",
     "start_time": "2023-06-21T15:36:25.174288500Z"
    }
   }
  },
  {
   "cell_type": "code",
   "execution_count": 3,
   "metadata": {},
   "outputs": [
    {
     "ename": "NameError",
     "evalue": "name 'get_reactions' is not defined",
     "output_type": "error",
     "traceback": [
      "\u001B[1;31m---------------------------------------------------------------------------\u001B[0m",
      "\u001B[1;31mNameError\u001B[0m                                 Traceback (most recent call last)",
      "\u001B[1;32m~\\AppData\\Local\\Temp/ipykernel_4864/4150091419.py\u001B[0m in \u001B[0;36m<module>\u001B[1;34m\u001B[0m\n\u001B[0;32m      1\u001B[0m \u001B[1;32mfor\u001B[0m \u001B[0mlipid\u001B[0m \u001B[1;32min\u001B[0m \u001B[0mid_lipid\u001B[0m\u001B[1;33m:\u001B[0m\u001B[1;33m\u001B[0m\u001B[1;33m\u001B[0m\u001B[0m\n\u001B[0;32m      2\u001B[0m     \u001B[1;32mif\u001B[0m \u001B[0mlipid\u001B[0m \u001B[1;33m+\u001B[0m \u001B[1;34m\"__cytop\"\u001B[0m \u001B[1;32min\u001B[0m \u001B[0mid_metabolites\u001B[0m\u001B[1;33m:\u001B[0m\u001B[1;33m\u001B[0m\u001B[1;33m\u001B[0m\u001B[0m\n\u001B[1;32m----> 3\u001B[1;33m         \u001B[0mreactions_list\u001B[0m \u001B[1;33m=\u001B[0m \u001B[0mget_reactions\u001B[0m\u001B[1;33m(\u001B[0m\u001B[0mlipid\u001B[0m\u001B[1;33m,\u001B[0m \u001B[0mset\u001B[0m\u001B[1;33m(\u001B[0m\u001B[1;33m)\u001B[0m\u001B[1;33m)\u001B[0m\u001B[1;33m\u001B[0m\u001B[1;33m\u001B[0m\u001B[0m\n\u001B[0m",
      "\u001B[1;31mNameError\u001B[0m: name 'get_reactions' is not defined"
     ]
    }
   ],
   "source": [
    "for lipid in id_lipid:\n",
    "    if lipid + \"__cytop\" in id_metabolites:\n",
    "        reactions_list = get_reactions(lipid, set())\n"
   ]
  }
 ],
 "metadata": {
  "kernelspec": {
   "display_name": "base",
   "language": "python",
   "name": "python3"
  },
  "language_info": {
   "codemirror_mode": {
    "name": "ipython",
    "version": 3
   },
   "file_extension": ".py",
   "mimetype": "text/x-python",
   "name": "python",
   "nbconvert_exporter": "python",
   "pygments_lexer": "ipython3",
   "version": "3.9.13"
  },
  "orig_nbformat": 4
 },
 "nbformat": 4,
 "nbformat_minor": 2
}
